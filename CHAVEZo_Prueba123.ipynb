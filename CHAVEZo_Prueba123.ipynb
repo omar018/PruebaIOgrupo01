{
  "nbformat": 4,
  "nbformat_minor": 0,
  "metadata": {
    "colab": {
      "provenance": [],
      "authorship_tag": "ABX9TyNARbnPZ9xpQeLBGoFIODOW",
      "include_colab_link": true
    },
    "kernelspec": {
      "name": "python3",
      "display_name": "Python 3"
    },
    "language_info": {
      "name": "python"
    }
  },
  "cells": [
    {
      "cell_type": "markdown",
      "metadata": {
        "id": "view-in-github",
        "colab_type": "text"
      },
      "source": [
        "<a href=\"https://colab.research.google.com/github/omar018/PruebaIOgrupo01/blob/main/CHAVEZo_Prueba123.ipynb\" target=\"_parent\"><img src=\"https://colab.research.google.com/assets/colab-badge.svg\" alt=\"Open In Colab\"/></a>"
      ]
    },
    {
      "cell_type": "markdown",
      "source": [
        "# Mi primera vez\n",
        "## Esto es un subtítulo\n"
      ],
      "metadata": {
        "id": "FVH9N39feqZ-"
      }
    },
    {
      "cell_type": "code",
      "execution_count": null,
      "metadata": {
        "colab": {
          "base_uri": "https://localhost:8080/"
        },
        "id": "IBBioXejdVkF",
        "outputId": "43cb9c7e-1025-4faf-b4fc-2794e8fb29ac"
      },
      "outputs": [
        {
          "output_type": "stream",
          "name": "stdout",
          "text": [
            "Hola mundo soy  1\n"
          ]
        }
      ],
      "source": [
        "h = 1\n",
        "print('Hola mundo soy ', h)"
      ]
    },
    {
      "cell_type": "markdown",
      "source": [
        "# Segundo ejercicio"
      ],
      "metadata": {
        "id": "wL_M1DdkfWQG"
      }
    },
    {
      "cell_type": "code",
      "source": [
        "print('Hola, omar!!')"
      ],
      "metadata": {
        "colab": {
          "base_uri": "https://localhost:8080/"
        },
        "id": "bJT9ltc2fRUT",
        "outputId": "fe017041-4ba0-4aa2-b4ee-4d86b76e4399"
      },
      "execution_count": null,
      "outputs": [
        {
          "output_type": "stream",
          "name": "stdout",
          "text": [
            "Hola, omar!!\n"
          ]
        }
      ]
    },
    {
      "cell_type": "markdown",
      "source": [
        "# Tercer ejercicio"
      ],
      "metadata": {
        "id": "rjYRGvZzmEaa"
      }
    },
    {
      "cell_type": "code",
      "source": [
        "print(2+3)"
      ],
      "metadata": {
        "id": "9oyELNdMmGpF"
      },
      "execution_count": null,
      "outputs": []
    },
    {
      "cell_type": "markdown",
      "source": [
        "# Cuarto ejercicio\n",
        "## Este será un ejercicio más"
      ],
      "metadata": {
        "id": "iSV-7L1qrnUH"
      }
    },
    {
      "cell_type": "code",
      "source": [
        "h = 3 + 4\n",
        "print(h)"
      ],
      "metadata": {
        "colab": {
          "base_uri": "https://localhost:8080/"
        },
        "id": "o6wfQfkRrsTE",
        "outputId": "c893c31c-8b18-476b-bbdc-df19b9e67690"
      },
      "execution_count": null,
      "outputs": [
        {
          "output_type": "stream",
          "name": "stdout",
          "text": [
            "7\n"
          ]
        }
      ]
    }
  ]
}