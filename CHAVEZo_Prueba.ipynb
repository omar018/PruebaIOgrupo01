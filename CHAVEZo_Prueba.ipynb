{
  "nbformat": 4,
  "nbformat_minor": 0,
  "metadata": {
    "colab": {
      "provenance": [],
      "authorship_tag": "ABX9TyMEX4fMSDLYaQ2FDQXWspq/",
      "include_colab_link": true
    },
    "kernelspec": {
      "name": "python3",
      "display_name": "Python 3"
    },
    "language_info": {
      "name": "python"
    }
  },
  "cells": [
    {
      "cell_type": "markdown",
      "metadata": {
        "id": "view-in-github",
        "colab_type": "text"
      },
      "source": [
        "<a href=\"https://colab.research.google.com/github/omar018/PruebaIOgrupo01/blob/main/CHAVEZo_Prueba.ipynb\" target=\"_parent\"><img src=\"https://colab.research.google.com/assets/colab-badge.svg\" alt=\"Open In Colab\"/></a>"
      ]
    },
    {
      "cell_type": "markdown",
      "source": [
        "# Mi primera vez\n",
        "## Esto es un subtítulo\n"
      ],
      "metadata": {
        "id": "FVH9N39feqZ-"
      }
    },
    {
      "cell_type": "code",
      "execution_count": 1,
      "metadata": {
        "colab": {
          "base_uri": "https://localhost:8080/"
        },
        "id": "IBBioXejdVkF",
        "outputId": "c67e1e5b-1c1d-4c8e-b845-3cb9e57061f0"
      },
      "outputs": [
        {
          "output_type": "stream",
          "name": "stdout",
          "text": [
            "Hola mundo\n"
          ]
        }
      ],
      "source": [
        "print('Hola mundo')"
      ]
    },
    {
      "cell_type": "markdown",
      "source": [
        "# Segundo ejercicio"
      ],
      "metadata": {
        "id": "wL_M1DdkfWQG"
      }
    },
    {
      "cell_type": "code",
      "source": [
        "print('Hola, omar!!')"
      ],
      "metadata": {
        "colab": {
          "base_uri": "https://localhost:8080/"
        },
        "id": "bJT9ltc2fRUT",
        "outputId": "fe017041-4ba0-4aa2-b4ee-4d86b76e4399"
      },
      "execution_count": 2,
      "outputs": [
        {
          "output_type": "stream",
          "name": "stdout",
          "text": [
            "Hola, omar!!\n"
          ]
        }
      ]
    }
  ]
}